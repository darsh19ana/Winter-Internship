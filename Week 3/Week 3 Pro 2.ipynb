{
 "cells": [
  {
   "cell_type": "code",
   "execution_count": 2,
   "id": "42f16674-7290-4721-bda8-7f7389c10676",
   "metadata": {},
   "outputs": [],
   "source": [
    "import pandas as pd\n",
    "import numpy as np"
   ]
  },
  {
   "cell_type": "code",
   "execution_count": 3,
   "id": "7ace5050-8d7f-48ff-a99c-6fd77194ff2e",
   "metadata": {},
   "outputs": [
    {
     "data": {
      "text/html": [
       "<div>\n",
       "<style scoped>\n",
       "    .dataframe tbody tr th:only-of-type {\n",
       "        vertical-align: middle;\n",
       "    }\n",
       "\n",
       "    .dataframe tbody tr th {\n",
       "        vertical-align: top;\n",
       "    }\n",
       "\n",
       "    .dataframe thead th {\n",
       "        text-align: right;\n",
       "    }\n",
       "</style>\n",
       "<table border=\"1\" class=\"dataframe\">\n",
       "  <thead>\n",
       "    <tr style=\"text-align: right;\">\n",
       "      <th></th>\n",
       "      <th>order_id</th>\n",
       "      <th>quantity</th>\n",
       "      <th>item_name</th>\n",
       "      <th>choice_description</th>\n",
       "      <th>item_price</th>\n",
       "    </tr>\n",
       "  </thead>\n",
       "  <tbody>\n",
       "    <tr>\n",
       "      <th>0</th>\n",
       "      <td>1</td>\n",
       "      <td>1</td>\n",
       "      <td>Chips and Fresh Tomato Salsa</td>\n",
       "      <td>NaN</td>\n",
       "      <td>$2.39</td>\n",
       "    </tr>\n",
       "    <tr>\n",
       "      <th>1</th>\n",
       "      <td>1</td>\n",
       "      <td>1</td>\n",
       "      <td>Izze</td>\n",
       "      <td>[Clementine]</td>\n",
       "      <td>$3.39</td>\n",
       "    </tr>\n",
       "    <tr>\n",
       "      <th>2</th>\n",
       "      <td>1</td>\n",
       "      <td>1</td>\n",
       "      <td>Nantucket Nectar</td>\n",
       "      <td>[Apple]</td>\n",
       "      <td>$3.39</td>\n",
       "    </tr>\n",
       "    <tr>\n",
       "      <th>3</th>\n",
       "      <td>1</td>\n",
       "      <td>1</td>\n",
       "      <td>Chips and Tomatillo-Green Chili Salsa</td>\n",
       "      <td>NaN</td>\n",
       "      <td>$2.39</td>\n",
       "    </tr>\n",
       "    <tr>\n",
       "      <th>4</th>\n",
       "      <td>2</td>\n",
       "      <td>2</td>\n",
       "      <td>Chicken Bowl</td>\n",
       "      <td>[Tomatillo-Red Chili Salsa (Hot), [Black Beans...</td>\n",
       "      <td>$16.98</td>\n",
       "    </tr>\n",
       "    <tr>\n",
       "      <th>...</th>\n",
       "      <td>...</td>\n",
       "      <td>...</td>\n",
       "      <td>...</td>\n",
       "      <td>...</td>\n",
       "      <td>...</td>\n",
       "    </tr>\n",
       "    <tr>\n",
       "      <th>4617</th>\n",
       "      <td>1833</td>\n",
       "      <td>1</td>\n",
       "      <td>Steak Burrito</td>\n",
       "      <td>[Fresh Tomato Salsa, [Rice, Black Beans, Sour ...</td>\n",
       "      <td>$11.75</td>\n",
       "    </tr>\n",
       "    <tr>\n",
       "      <th>4618</th>\n",
       "      <td>1833</td>\n",
       "      <td>1</td>\n",
       "      <td>Steak Burrito</td>\n",
       "      <td>[Fresh Tomato Salsa, [Rice, Sour Cream, Cheese...</td>\n",
       "      <td>$11.75</td>\n",
       "    </tr>\n",
       "    <tr>\n",
       "      <th>4619</th>\n",
       "      <td>1834</td>\n",
       "      <td>1</td>\n",
       "      <td>Chicken Salad Bowl</td>\n",
       "      <td>[Fresh Tomato Salsa, [Fajita Vegetables, Pinto...</td>\n",
       "      <td>$11.25</td>\n",
       "    </tr>\n",
       "    <tr>\n",
       "      <th>4620</th>\n",
       "      <td>1834</td>\n",
       "      <td>1</td>\n",
       "      <td>Chicken Salad Bowl</td>\n",
       "      <td>[Fresh Tomato Salsa, [Fajita Vegetables, Lettu...</td>\n",
       "      <td>$8.75</td>\n",
       "    </tr>\n",
       "    <tr>\n",
       "      <th>4621</th>\n",
       "      <td>1834</td>\n",
       "      <td>1</td>\n",
       "      <td>Chicken Salad Bowl</td>\n",
       "      <td>[Fresh Tomato Salsa, [Fajita Vegetables, Pinto...</td>\n",
       "      <td>$8.75</td>\n",
       "    </tr>\n",
       "  </tbody>\n",
       "</table>\n",
       "<p>4622 rows × 5 columns</p>\n",
       "</div>"
      ],
      "text/plain": [
       "      order_id  quantity                              item_name  \\\n",
       "0            1         1           Chips and Fresh Tomato Salsa   \n",
       "1            1         1                                   Izze   \n",
       "2            1         1                       Nantucket Nectar   \n",
       "3            1         1  Chips and Tomatillo-Green Chili Salsa   \n",
       "4            2         2                           Chicken Bowl   \n",
       "...        ...       ...                                    ...   \n",
       "4617      1833         1                          Steak Burrito   \n",
       "4618      1833         1                          Steak Burrito   \n",
       "4619      1834         1                     Chicken Salad Bowl   \n",
       "4620      1834         1                     Chicken Salad Bowl   \n",
       "4621      1834         1                     Chicken Salad Bowl   \n",
       "\n",
       "                                     choice_description item_price  \n",
       "0                                                   NaN     $2.39   \n",
       "1                                          [Clementine]     $3.39   \n",
       "2                                               [Apple]     $3.39   \n",
       "3                                                   NaN     $2.39   \n",
       "4     [Tomatillo-Red Chili Salsa (Hot), [Black Beans...    $16.98   \n",
       "...                                                 ...        ...  \n",
       "4617  [Fresh Tomato Salsa, [Rice, Black Beans, Sour ...    $11.75   \n",
       "4618  [Fresh Tomato Salsa, [Rice, Sour Cream, Cheese...    $11.75   \n",
       "4619  [Fresh Tomato Salsa, [Fajita Vegetables, Pinto...    $11.25   \n",
       "4620  [Fresh Tomato Salsa, [Fajita Vegetables, Lettu...     $8.75   \n",
       "4621  [Fresh Tomato Salsa, [Fajita Vegetables, Pinto...     $8.75   \n",
       "\n",
       "[4622 rows x 5 columns]"
      ]
     },
     "execution_count": 3,
     "metadata": {},
     "output_type": "execute_result"
    }
   ],
   "source": [
    "df = pd.read_csv(r\"C:\\Users\\darsh\\OneDrive\\Desktop\\Week 3 - Data Cleaning (Pandas) - 2\\chipotle.tsv\",sep='\\t')\n",
    "df"
   ]
  },
  {
   "cell_type": "code",
   "execution_count": 4,
   "id": "c2519ade-34da-44e1-8e8c-cbfb167465ab",
   "metadata": {},
   "outputs": [
    {
     "data": {
      "text/plain": [
       "order_id                 0\n",
       "quantity                 0\n",
       "item_name                0\n",
       "choice_description    1246\n",
       "item_price               0\n",
       "dtype: int64"
      ]
     },
     "execution_count": 4,
     "metadata": {},
     "output_type": "execute_result"
    }
   ],
   "source": [
    "df.isnull().sum()"
   ]
  },
  {
   "cell_type": "markdown",
   "id": "99e78008-31d5-4876-af8c-1dfcd6a61341",
   "metadata": {},
   "source": [
    "    Que 1 : Quantity of each item? (Top 5 items available in store)"
   ]
  },
  {
   "cell_type": "code",
   "execution_count": 5,
   "id": "66606548-9ac6-4660-b1dd-9c1215f1b802",
   "metadata": {},
   "outputs": [
    {
     "name": "stdout",
     "output_type": "stream",
     "text": [
      "\n",
      "Top 5 items available in the store:\n",
      "              item_name  quantity\n",
      "17         Chicken Bowl       761\n",
      "18      Chicken Burrito       591\n",
      "25  Chips and Guacamole       506\n",
      "39        Steak Burrito       386\n",
      "10    Canned Soft Drink       351\n"
     ]
    }
   ],
   "source": [
    "item_quantities = df.groupby('item_name')['quantity'].sum().reset_index()\n",
    "sorted_items = item_quantities.sort_values(by='quantity', ascending=False)\n",
    "top_5_items = sorted_items.head(5)\n",
    "print(\"\\nTop 5 items available in the store:\")\n",
    "print(top_5_items)"
   ]
  },
  {
   "cell_type": "markdown",
   "id": "5a53126c-eec4-40f1-ae68-c7507a54fb2d",
   "metadata": {},
   "source": [
    "     Que 2 : Which is the most ordered item in choice_description?"
   ]
  },
  {
   "cell_type": "code",
   "execution_count": 6,
   "id": "c5cad2b1-e942-472e-9884-9caf67202324",
   "metadata": {},
   "outputs": [
    {
     "name": "stdout",
     "output_type": "stream",
     "text": [
      "\n",
      "Most ordered item in choice_description:\n",
      "choice_description    [Diet Coke]\n",
      "quantity                      159\n",
      "Name: 15, dtype: object\n"
     ]
    }
   ],
   "source": [
    "choice_quantities = df.groupby('choice_description')['quantity'].sum().reset_index()\n",
    "most_ordered_item = choice_quantities.loc[choice_quantities['quantity'].idxmax()]\n",
    "print(\"\\nMost ordered item in choice_description:\")\n",
    "print(most_ordered_item)"
   ]
  },
  {
   "cell_type": "markdown",
   "id": "1a63c1b6-9ce4-49ba-8842-cfe4b6bc8184",
   "metadata": {},
   "source": [
    "    Que 3 : What is total order count?"
   ]
  },
  {
   "cell_type": "code",
   "execution_count": 7,
   "id": "bd6edbce-fc46-4676-8310-5626daee9f72",
   "metadata": {},
   "outputs": [
    {
     "name": "stdout",
     "output_type": "stream",
     "text": [
      "\n",
      "Total Order Count:\n",
      "4972\n"
     ]
    }
   ],
   "source": [
    "total_order_count = df['quantity'].sum()\n",
    "print(\"\\nTotal Order Count:\")\n",
    "print(total_order_count)"
   ]
  },
  {
   "cell_type": "markdown",
   "id": "3049a516-ac8d-4ae9-a8b8-390b12c74e8e",
   "metadata": {},
   "source": [
    "    Que 4 : What is revenue?"
   ]
  },
  {
   "cell_type": "code",
   "execution_count": 8,
   "id": "2909c592-2f34-4333-a2aa-80d633bdc5ca",
   "metadata": {},
   "outputs": [
    {
     "name": "stdout",
     "output_type": "stream",
     "text": [
      "\n",
      "Total Revenue:\n",
      "39237.02\n"
     ]
    }
   ],
   "source": [
    "df['item_price'] = df['item_price'].replace('[\\$,]', '', regex=True).astype(float)\n",
    "df['revenue'] = df['quantity'] * df['item_price']\n",
    "total_revenue = df['revenue'].sum()\n",
    "print(\"\\nTotal Revenue:\")\n",
    "print(total_revenue)"
   ]
  },
  {
   "cell_type": "code",
   "execution_count": 9,
   "id": "92105ab8-9a26-4985-8c27-d0e4b2237bf9",
   "metadata": {},
   "outputs": [
    {
     "data": {
      "text/html": [
       "<div>\n",
       "<style scoped>\n",
       "    .dataframe tbody tr th:only-of-type {\n",
       "        vertical-align: middle;\n",
       "    }\n",
       "\n",
       "    .dataframe tbody tr th {\n",
       "        vertical-align: top;\n",
       "    }\n",
       "\n",
       "    .dataframe thead th {\n",
       "        text-align: right;\n",
       "    }\n",
       "</style>\n",
       "<table border=\"1\" class=\"dataframe\">\n",
       "  <thead>\n",
       "    <tr style=\"text-align: right;\">\n",
       "      <th></th>\n",
       "      <th>order_id</th>\n",
       "      <th>quantity</th>\n",
       "      <th>item_name</th>\n",
       "      <th>choice_description</th>\n",
       "      <th>item_price</th>\n",
       "      <th>revenue</th>\n",
       "    </tr>\n",
       "  </thead>\n",
       "  <tbody>\n",
       "    <tr>\n",
       "      <th>0</th>\n",
       "      <td>1</td>\n",
       "      <td>1</td>\n",
       "      <td>Chips and Fresh Tomato Salsa</td>\n",
       "      <td>NaN</td>\n",
       "      <td>2.39</td>\n",
       "      <td>2.39</td>\n",
       "    </tr>\n",
       "    <tr>\n",
       "      <th>1</th>\n",
       "      <td>1</td>\n",
       "      <td>1</td>\n",
       "      <td>Izze</td>\n",
       "      <td>[Clementine]</td>\n",
       "      <td>3.39</td>\n",
       "      <td>3.39</td>\n",
       "    </tr>\n",
       "    <tr>\n",
       "      <th>2</th>\n",
       "      <td>1</td>\n",
       "      <td>1</td>\n",
       "      <td>Nantucket Nectar</td>\n",
       "      <td>[Apple]</td>\n",
       "      <td>3.39</td>\n",
       "      <td>3.39</td>\n",
       "    </tr>\n",
       "    <tr>\n",
       "      <th>3</th>\n",
       "      <td>1</td>\n",
       "      <td>1</td>\n",
       "      <td>Chips and Tomatillo-Green Chili Salsa</td>\n",
       "      <td>NaN</td>\n",
       "      <td>2.39</td>\n",
       "      <td>2.39</td>\n",
       "    </tr>\n",
       "    <tr>\n",
       "      <th>4</th>\n",
       "      <td>2</td>\n",
       "      <td>2</td>\n",
       "      <td>Chicken Bowl</td>\n",
       "      <td>[Tomatillo-Red Chili Salsa (Hot), [Black Beans...</td>\n",
       "      <td>16.98</td>\n",
       "      <td>33.96</td>\n",
       "    </tr>\n",
       "    <tr>\n",
       "      <th>...</th>\n",
       "      <td>...</td>\n",
       "      <td>...</td>\n",
       "      <td>...</td>\n",
       "      <td>...</td>\n",
       "      <td>...</td>\n",
       "      <td>...</td>\n",
       "    </tr>\n",
       "    <tr>\n",
       "      <th>4617</th>\n",
       "      <td>1833</td>\n",
       "      <td>1</td>\n",
       "      <td>Steak Burrito</td>\n",
       "      <td>[Fresh Tomato Salsa, [Rice, Black Beans, Sour ...</td>\n",
       "      <td>11.75</td>\n",
       "      <td>11.75</td>\n",
       "    </tr>\n",
       "    <tr>\n",
       "      <th>4618</th>\n",
       "      <td>1833</td>\n",
       "      <td>1</td>\n",
       "      <td>Steak Burrito</td>\n",
       "      <td>[Fresh Tomato Salsa, [Rice, Sour Cream, Cheese...</td>\n",
       "      <td>11.75</td>\n",
       "      <td>11.75</td>\n",
       "    </tr>\n",
       "    <tr>\n",
       "      <th>4619</th>\n",
       "      <td>1834</td>\n",
       "      <td>1</td>\n",
       "      <td>Chicken Salad Bowl</td>\n",
       "      <td>[Fresh Tomato Salsa, [Fajita Vegetables, Pinto...</td>\n",
       "      <td>11.25</td>\n",
       "      <td>11.25</td>\n",
       "    </tr>\n",
       "    <tr>\n",
       "      <th>4620</th>\n",
       "      <td>1834</td>\n",
       "      <td>1</td>\n",
       "      <td>Chicken Salad Bowl</td>\n",
       "      <td>[Fresh Tomato Salsa, [Fajita Vegetables, Lettu...</td>\n",
       "      <td>8.75</td>\n",
       "      <td>8.75</td>\n",
       "    </tr>\n",
       "    <tr>\n",
       "      <th>4621</th>\n",
       "      <td>1834</td>\n",
       "      <td>1</td>\n",
       "      <td>Chicken Salad Bowl</td>\n",
       "      <td>[Fresh Tomato Salsa, [Fajita Vegetables, Pinto...</td>\n",
       "      <td>8.75</td>\n",
       "      <td>8.75</td>\n",
       "    </tr>\n",
       "  </tbody>\n",
       "</table>\n",
       "<p>4622 rows × 6 columns</p>\n",
       "</div>"
      ],
      "text/plain": [
       "      order_id  quantity                              item_name  \\\n",
       "0            1         1           Chips and Fresh Tomato Salsa   \n",
       "1            1         1                                   Izze   \n",
       "2            1         1                       Nantucket Nectar   \n",
       "3            1         1  Chips and Tomatillo-Green Chili Salsa   \n",
       "4            2         2                           Chicken Bowl   \n",
       "...        ...       ...                                    ...   \n",
       "4617      1833         1                          Steak Burrito   \n",
       "4618      1833         1                          Steak Burrito   \n",
       "4619      1834         1                     Chicken Salad Bowl   \n",
       "4620      1834         1                     Chicken Salad Bowl   \n",
       "4621      1834         1                     Chicken Salad Bowl   \n",
       "\n",
       "                                     choice_description  item_price  revenue  \n",
       "0                                                   NaN        2.39     2.39  \n",
       "1                                          [Clementine]        3.39     3.39  \n",
       "2                                               [Apple]        3.39     3.39  \n",
       "3                                                   NaN        2.39     2.39  \n",
       "4     [Tomatillo-Red Chili Salsa (Hot), [Black Beans...       16.98    33.96  \n",
       "...                                                 ...         ...      ...  \n",
       "4617  [Fresh Tomato Salsa, [Rice, Black Beans, Sour ...       11.75    11.75  \n",
       "4618  [Fresh Tomato Salsa, [Rice, Sour Cream, Cheese...       11.75    11.75  \n",
       "4619  [Fresh Tomato Salsa, [Fajita Vegetables, Pinto...       11.25    11.25  \n",
       "4620  [Fresh Tomato Salsa, [Fajita Vegetables, Lettu...        8.75     8.75  \n",
       "4621  [Fresh Tomato Salsa, [Fajita Vegetables, Pinto...        8.75     8.75  \n",
       "\n",
       "[4622 rows x 6 columns]"
      ]
     },
     "execution_count": 9,
     "metadata": {},
     "output_type": "execute_result"
    }
   ],
   "source": [
    "df"
   ]
  },
  {
   "cell_type": "markdown",
   "id": "5e8fc135-33b2-4d27-8978-599a55501b20",
   "metadata": {},
   "source": [
    "    Que 5 : what are number of orders?"
   ]
  },
  {
   "cell_type": "code",
   "execution_count": 10,
   "id": "c77a85b7-e381-4148-bb9f-6dc7ab7ec363",
   "metadata": {},
   "outputs": [
    {
     "name": "stdout",
     "output_type": "stream",
     "text": [
      "\n",
      "Number of Orders:\n",
      "1834\n"
     ]
    }
   ],
   "source": [
    "number_of_orders = df['order_id'].nunique()\n",
    "print(\"\\nNumber of Orders:\")\n",
    "print(number_of_orders)"
   ]
  },
  {
   "cell_type": "markdown",
   "id": "ef26c0e5-7e8d-457d-91d8-214011d2f267",
   "metadata": {},
   "source": [
    "    Que 6 : How many different items are sold?"
   ]
  },
  {
   "cell_type": "code",
   "execution_count": 11,
   "id": "483e0ca8-c007-494d-a7a9-a0db2770d12b",
   "metadata": {},
   "outputs": [
    {
     "name": "stdout",
     "output_type": "stream",
     "text": [
      "\n",
      "Number of Different Items Sold:\n",
      "50\n"
     ]
    }
   ],
   "source": [
    "number_of_items_sold = df['item_name'].nunique()\n",
    "print(\"\\nNumber of Different Items Sold:\")\n",
    "print(number_of_items_sold)"
   ]
  },
  {
   "cell_type": "markdown",
   "id": "9613e332-3bb2-4843-9030-486fe92f7410",
   "metadata": {},
   "source": [
    "    Que 7 : What is revenue from each product?"
   ]
  },
  {
   "cell_type": "code",
   "execution_count": 12,
   "id": "ca082507-b24a-410e-93c7-fbb894f151f2",
   "metadata": {},
   "outputs": [
    {
     "name": "stdout",
     "output_type": "stream",
     "text": [
      "\n",
      "Revenue from Each Product:\n",
      "                                item_name  revenue\n",
      "0                       6 Pack Soft Drink   369.93\n",
      "1                           Barbacoa Bowl   672.36\n",
      "2                        Barbacoa Burrito   894.75\n",
      "3                   Barbacoa Crispy Tacos   138.71\n",
      "4                     Barbacoa Salad Bowl   106.40\n",
      "5                     Barbacoa Soft Tacos   250.46\n",
      "6                           Bottled Water   649.18\n",
      "7                                    Bowl    74.00\n",
      "8                                 Burrito    44.40\n",
      "9                             Canned Soda   191.84\n",
      "10                      Canned Soft Drink   603.75\n",
      "11                          Carnitas Bowl   830.71\n",
      "12                       Carnitas Burrito   616.33\n",
      "13                  Carnitas Crispy Tacos    95.94\n",
      "14                         Carnitas Salad     8.99\n",
      "15                    Carnitas Salad Bowl    66.34\n",
      "16                    Carnitas Soft Tacos   375.94\n",
      "17                           Chicken Bowl  8044.63\n",
      "18                        Chicken Burrito  6387.06\n",
      "19                   Chicken Crispy Tacos   524.11\n",
      "20                          Chicken Salad    81.09\n",
      "21                     Chicken Salad Bowl  1506.25\n",
      "22                     Chicken Soft Tacos  1199.01\n",
      "23                                  Chips   580.34\n",
      "24           Chips and Fresh Tomato Salsa  1033.96\n",
      "25                    Chips and Guacamole  2475.62\n",
      "26      Chips and Mild Fresh Tomato Salsa     3.00\n",
      "27     Chips and Roasted Chili Corn Salsa    73.75\n",
      "28     Chips and Roasted Chili-Corn Salsa    43.02\n",
      "29  Chips and Tomatillo Green Chili Salsa   144.55\n",
      "30    Chips and Tomatillo Red Chili Salsa   159.30\n",
      "31  Chips and Tomatillo-Green Chili Salsa    88.43\n",
      "32    Chips and Tomatillo-Red Chili Salsa    93.21\n",
      "33                           Crispy Tacos    14.80\n",
      "34                                   Izze    67.80\n",
      "35                       Nantucket Nectar   111.87\n",
      "36                                  Salad    14.80\n",
      "37                          Side of Chips   290.68\n",
      "38                             Steak Bowl  2479.81\n",
      "39                          Steak Burrito  4236.13\n",
      "40                     Steak Crispy Tacos   375.32\n",
      "41                            Steak Salad    35.66\n",
      "42                       Steak Salad Bowl   391.15\n",
      "43                       Steak Soft Tacos   554.55\n",
      "44                            Veggie Bowl   901.95\n",
      "45                         Veggie Burrito  1002.27\n",
      "46                    Veggie Crispy Tacos     8.49\n",
      "47                           Veggie Salad    50.94\n",
      "48                      Veggie Salad Bowl   182.50\n",
      "49                      Veggie Soft Tacos    90.94\n"
     ]
    }
   ],
   "source": [
    "df['item_price'] = df['item_price'].replace('[\\$,]', '', regex=True).astype(float)\n",
    "df['revenue'] = df['quantity'] * df['item_price']\n",
    "product_revenue = df.groupby('item_name')['revenue'].sum().reset_index()\n",
    "print(\"\\nRevenue from Each Product:\")\n",
    "print(product_revenue)"
   ]
  },
  {
   "cell_type": "markdown",
   "id": "07c8e639-d475-4084-8448-63fc31bcf132",
   "metadata": {},
   "source": [
    "    Que 8 : Find the unique items."
   ]
  },
  {
   "cell_type": "code",
   "execution_count": 13,
   "id": "e79082ff-ee7f-44ba-8f5e-c05eba32b6b2",
   "metadata": {},
   "outputs": [
    {
     "name": "stdout",
     "output_type": "stream",
     "text": [
      "\n",
      "Unique Items:\n",
      "['Chips and Fresh Tomato Salsa' 'Izze' 'Nantucket Nectar'\n",
      " 'Chips and Tomatillo-Green Chili Salsa' 'Chicken Bowl' 'Side of Chips'\n",
      " 'Steak Burrito' 'Steak Soft Tacos' 'Chips and Guacamole'\n",
      " 'Chicken Crispy Tacos' 'Chicken Soft Tacos' 'Chicken Burrito'\n",
      " 'Canned Soda' 'Barbacoa Burrito' 'Carnitas Burrito' 'Carnitas Bowl'\n",
      " 'Bottled Water' 'Chips and Tomatillo Green Chili Salsa' 'Barbacoa Bowl'\n",
      " 'Chips' 'Chicken Salad Bowl' 'Steak Bowl' 'Barbacoa Soft Tacos'\n",
      " 'Veggie Burrito' 'Veggie Bowl' 'Steak Crispy Tacos'\n",
      " 'Chips and Tomatillo Red Chili Salsa' 'Barbacoa Crispy Tacos'\n",
      " 'Veggie Salad Bowl' 'Chips and Roasted Chili-Corn Salsa'\n",
      " 'Chips and Roasted Chili Corn Salsa' 'Carnitas Soft Tacos'\n",
      " 'Chicken Salad' 'Canned Soft Drink' 'Steak Salad Bowl'\n",
      " '6 Pack Soft Drink' 'Chips and Tomatillo-Red Chili Salsa' 'Bowl'\n",
      " 'Burrito' 'Crispy Tacos' 'Carnitas Crispy Tacos' 'Steak Salad'\n",
      " 'Chips and Mild Fresh Tomato Salsa' 'Veggie Soft Tacos'\n",
      " 'Carnitas Salad Bowl' 'Barbacoa Salad Bowl' 'Salad' 'Veggie Crispy Tacos'\n",
      " 'Veggie Salad' 'Carnitas Salad']\n"
     ]
    }
   ],
   "source": [
    "unique_items = df['item_name'].unique()\n",
    "print(\"\\nUnique Items:\")\n",
    "print(unique_items)"
   ]
  },
  {
   "cell_type": "markdown",
   "id": "1c651d73-ecbf-4acb-8ba8-acbf3ac0a023",
   "metadata": {},
   "source": [
    "    Que 9 : What is the total cost and quantity of every unique item?"
   ]
  },
  {
   "cell_type": "code",
   "execution_count": 14,
   "id": "002ea39e-26a3-4558-9de4-e0e3db14cb5f",
   "metadata": {},
   "outputs": [
    {
     "name": "stdout",
     "output_type": "stream",
     "text": [
      "\n",
      "Total Cost and Quantity of Every Unique Item:\n",
      "                                item_name  quantity     cost\n",
      "0                       6 Pack Soft Drink        55   369.93\n",
      "1                           Barbacoa Bowl        66   672.36\n",
      "2                        Barbacoa Burrito        91   894.75\n",
      "3                   Barbacoa Crispy Tacos        12   138.71\n",
      "4                     Barbacoa Salad Bowl        10   106.40\n",
      "5                     Barbacoa Soft Tacos        25   250.46\n",
      "6                           Bottled Water       211   649.18\n",
      "7                                    Bowl         4    74.00\n",
      "8                                 Burrito         6    44.40\n",
      "9                             Canned Soda       126   191.84\n",
      "10                      Canned Soft Drink       351   603.75\n",
      "11                          Carnitas Bowl        71   830.71\n",
      "12                       Carnitas Burrito        60   616.33\n",
      "13                  Carnitas Crispy Tacos         8    95.94\n",
      "14                         Carnitas Salad         1     8.99\n",
      "15                    Carnitas Salad Bowl         6    66.34\n",
      "16                    Carnitas Soft Tacos        40   375.94\n",
      "17                           Chicken Bowl       761  8044.63\n",
      "18                        Chicken Burrito       591  6387.06\n",
      "19                   Chicken Crispy Tacos        50   524.11\n",
      "20                          Chicken Salad         9    81.09\n",
      "21                     Chicken Salad Bowl       123  1506.25\n",
      "22                     Chicken Soft Tacos       120  1199.01\n",
      "23                                  Chips       230   580.34\n",
      "24           Chips and Fresh Tomato Salsa       130  1033.96\n",
      "25                    Chips and Guacamole       506  2475.62\n",
      "26      Chips and Mild Fresh Tomato Salsa         1     3.00\n",
      "27     Chips and Roasted Chili Corn Salsa        23    73.75\n",
      "28     Chips and Roasted Chili-Corn Salsa        18    43.02\n",
      "29  Chips and Tomatillo Green Chili Salsa        45   144.55\n",
      "30    Chips and Tomatillo Red Chili Salsa        50   159.30\n",
      "31  Chips and Tomatillo-Green Chili Salsa        33    88.43\n",
      "32    Chips and Tomatillo-Red Chili Salsa        25    93.21\n",
      "33                           Crispy Tacos         2    14.80\n",
      "34                                   Izze        20    67.80\n",
      "35                       Nantucket Nectar        29   111.87\n",
      "36                                  Salad         2    14.80\n",
      "37                          Side of Chips       110   290.68\n",
      "38                             Steak Bowl       221  2479.81\n",
      "39                          Steak Burrito       386  4236.13\n",
      "40                     Steak Crispy Tacos        36   375.32\n",
      "41                            Steak Salad         4    35.66\n",
      "42                       Steak Salad Bowl        31   391.15\n",
      "43                       Steak Soft Tacos        56   554.55\n",
      "44                            Veggie Bowl        87   901.95\n",
      "45                         Veggie Burrito        97  1002.27\n",
      "46                    Veggie Crispy Tacos         1     8.49\n",
      "47                           Veggie Salad         6    50.94\n",
      "48                      Veggie Salad Bowl        18   182.50\n",
      "49                      Veggie Soft Tacos         8    90.94\n"
     ]
    }
   ],
   "source": [
    "df['item_price'] = df['item_price'].replace('[\\$,]', '', regex=True).astype(float)\n",
    "df['cost'] = df['quantity'] * df['item_price']\n",
    "item_summary = df.groupby('item_name').agg({'quantity': 'sum', 'cost': 'sum'}).reset_index()\n",
    "print(\"\\nTotal Cost and Quantity of Every Unique Item:\")\n",
    "print(item_summary)"
   ]
  },
  {
   "cell_type": "markdown",
   "id": "6cd04d76-a334-4b26-bbb6-946b545ef8ac",
   "metadata": {},
   "source": [
    "    Que 10 : Find the average of every unique item."
   ]
  },
  {
   "cell_type": "code",
   "execution_count": 15,
   "id": "51e26f0e-7f37-4aa2-bde5-dacbb8d8892b",
   "metadata": {},
   "outputs": [
    {
     "name": "stdout",
     "output_type": "stream",
     "text": [
      "\n",
      "Average Cost and Quantity for Every Unique Item:\n",
      "                                item_name  quantity       cost\n",
      "0                       6 Pack Soft Drink  1.018519   6.850556\n",
      "1                           Barbacoa Bowl  1.000000  10.187273\n",
      "2                        Barbacoa Burrito  1.000000   9.832418\n",
      "3                   Barbacoa Crispy Tacos  1.090909  12.610000\n",
      "4                     Barbacoa Salad Bowl  1.000000  10.640000\n",
      "5                     Barbacoa Soft Tacos  1.000000  10.018400\n",
      "6                           Bottled Water  1.302469   4.007284\n",
      "7                                    Bowl  2.000000  37.000000\n",
      "8                                 Burrito  1.000000   7.400000\n",
      "9                             Canned Soda  1.211538   1.844615\n",
      "10                      Canned Soft Drink  1.166113   2.005814\n",
      "11                          Carnitas Bowl  1.044118  12.216324\n",
      "12                       Carnitas Burrito  1.016949  10.446271\n",
      "13                  Carnitas Crispy Tacos  1.142857  13.705714\n",
      "14                         Carnitas Salad  1.000000   8.990000\n",
      "15                    Carnitas Salad Bowl  1.000000  11.056667\n",
      "16                    Carnitas Soft Tacos  1.000000   9.398500\n",
      "17                           Chicken Bowl  1.048209  11.080758\n",
      "18                        Chicken Burrito  1.068716  11.549837\n",
      "19                   Chicken Crispy Tacos  1.063830  11.151277\n",
      "20                          Chicken Salad  1.000000   9.010000\n",
      "21                     Chicken Salad Bowl  1.118182  13.693182\n",
      "22                     Chicken Soft Tacos  1.043478  10.426174\n",
      "23                                  Chips  1.090047   2.750427\n",
      "24           Chips and Fresh Tomato Salsa  1.181818   9.399636\n",
      "25                    Chips and Guacamole  1.056367   5.168309\n",
      "26      Chips and Mild Fresh Tomato Salsa  1.000000   3.000000\n",
      "27     Chips and Roasted Chili Corn Salsa  1.045455   3.352273\n",
      "28     Chips and Roasted Chili-Corn Salsa  1.000000   2.390000\n",
      "29  Chips and Tomatillo Green Chili Salsa  1.046512   3.361628\n",
      "30    Chips and Tomatillo Red Chili Salsa  1.041667   3.318750\n",
      "31  Chips and Tomatillo-Green Chili Salsa  1.064516   2.852581\n",
      "32    Chips and Tomatillo-Red Chili Salsa  1.250000   4.660500\n",
      "33                           Crispy Tacos  1.000000   7.400000\n",
      "34                                   Izze  1.000000   3.390000\n",
      "35                       Nantucket Nectar  1.074074   4.143333\n",
      "36                                  Salad  1.000000   7.400000\n",
      "37                          Side of Chips  1.089109   2.878020\n",
      "38                             Steak Bowl  1.047393  11.752654\n",
      "39                          Steak Burrito  1.048913  11.511223\n",
      "40                     Steak Crispy Tacos  1.028571  10.723429\n",
      "41                            Steak Salad  1.000000   8.915000\n",
      "42                       Steak Salad Bowl  1.068966  13.487931\n",
      "43                       Steak Soft Tacos  1.018182  10.082727\n",
      "44                            Veggie Bowl  1.023529  10.611176\n",
      "45                         Veggie Burrito  1.021053  10.550211\n",
      "46                    Veggie Crispy Tacos  1.000000   8.490000\n",
      "47                           Veggie Salad  1.000000   8.490000\n",
      "48                      Veggie Salad Bowl  1.000000  10.138889\n",
      "49                      Veggie Soft Tacos  1.142857  12.991429\n"
     ]
    }
   ],
   "source": [
    "df['item_price'] = df['item_price'].replace('[\\$,]', '', regex=True).astype(float)\n",
    "df['cost'] = df['quantity'] * df['item_price']\n",
    "item_average = df.groupby('item_name').agg({'quantity': 'mean', 'cost': 'mean'}).reset_index()\n",
    "print(\"\\nAverage Cost and Quantity for Every Unique Item:\")\n",
    "print(item_average)"
   ]
  },
  {
   "cell_type": "code",
   "execution_count": null,
   "id": "c948dffc-2b44-45ab-b953-aec0718df5cf",
   "metadata": {},
   "outputs": [],
   "source": []
  }
 ],
 "metadata": {
  "kernelspec": {
   "display_name": "Python 3 (ipykernel)",
   "language": "python",
   "name": "python3"
  },
  "language_info": {
   "codemirror_mode": {
    "name": "ipython",
    "version": 3
   },
   "file_extension": ".py",
   "mimetype": "text/x-python",
   "name": "python",
   "nbconvert_exporter": "python",
   "pygments_lexer": "ipython3",
   "version": "3.11.2"
  }
 },
 "nbformat": 4,
 "nbformat_minor": 5
}
